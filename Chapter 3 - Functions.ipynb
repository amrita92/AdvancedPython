{
 "cells": [
  {
   "cell_type": "code",
   "execution_count": 2,
   "metadata": {},
   "outputs": [
    {
     "name": "stdout",
     "output_type": "stream",
     "text": [
      "myFunction(arg1, arg2=None) --> Doesn't really do anything special.\n",
      "\n",
      "    Parameters:\n",
      "    arg1: the first argument. Whatever you feel like passing.\n",
      "    arg2: the second argument. Defaults to None. Whatever makes you happy.\n",
      "    arg3: the third argument. This is a test class. By Amrita Iyer\n",
      "    \n"
     ]
    }
   ],
   "source": [
    "# Demonstrate the use of function docstrings\n",
    "\n",
    "\n",
    "def myFunction(arg1, arg2=None):\n",
    "    \"\"\"myFunction(arg1, arg2=None) --> Doesn't really do anything special.\n",
    "\n",
    "    Parameters:\n",
    "    arg1: the first argument. Whatever you feel like passing.\n",
    "    arg2: the second argument. Defaults to None. Whatever makes you happy.\n",
    "    arg3: the third argument. This is a test class. By Amrita Iyer\n",
    "    \"\"\"\n",
    "    print(arg1, arg2, arg3)\n",
    "\n",
    "\n",
    "def main():\n",
    "    print(myFunction.__doc__)\n",
    "\n",
    "\n",
    "if __name__ == \"__main__\":\n",
    "    main()\n"
   ]
  },
  {
   "cell_type": "code",
   "execution_count": 5,
   "metadata": {},
   "outputs": [
    {
     "name": "stdout",
     "output_type": "stream",
     "text": [
      "1 2 True\n",
      "1 2 False\n"
     ]
    }
   ],
   "source": [
    "# Demonstrate the use of keyword-only arguments\n",
    "\n",
    "\n",
    "# use keyword-only arguments to help ensure code clarity\n",
    "def myFunction(arg1, arg2, *, suppressExceptions=False):\n",
    "    print(arg1, arg2, suppressExceptions)\n",
    "\n",
    "\n",
    "def main():\n",
    "    # try to call the function without the keyword\n",
    "    # myFunction(1, 2, True)\n",
    "    myFunction(1, 2, suppressExceptions=True)\n",
    "    # this is the default\n",
    "    myFunction(1,2)\n",
    "\n",
    "\n",
    "if __name__ == \"__main__\":\n",
    "    main()\n"
   ]
  },
  {
   "cell_type": "code",
   "execution_count": 7,
   "metadata": {},
   "outputs": [
    {
     "name": "stdout",
     "output_type": "stream",
     "text": [
      "[0.0, 18.333333333333332, 37.77777777777778, 100.0]\n",
      "[32.0, 53.6, 93.2, 212.0]\n",
      "[0.0, 18.333333333333332, 37.77777777777778, 100.0]\n",
      "[32.0, 53.6, 93.2, 212.0]\n",
      "[22.040000000000003, 44.080000000000005, 66.12]\n",
      "[45.37205081669691, 49.9092558983666, 54.44646098003629]\n"
     ]
    }
   ],
   "source": [
    "# Use lambdas as in-place functions\n",
    "\n",
    "\n",
    "def CelsisusToFahrenheit(temp):\n",
    "    return (temp * 9/5) + 32\n",
    "\n",
    "\n",
    "def FahrenheitToCelsisus(temp):\n",
    "    return (temp-32) * 5/9\n",
    "\n",
    "\n",
    "def main():\n",
    "    ctemps = [0, 12, 34, 100]\n",
    "    ftemps = [32, 65, 100, 212]\n",
    "    #my example\n",
    "    kgs = [10, 20, 30]\n",
    "    lbs = [100, 110, 120]\n",
    "    \n",
    "    # Use regular functions to convert temps\n",
    "    print(list(map(FahrenheitToCelsisus, ftemps)))\n",
    "    print(list(map(CelsisusToFahrenheit, ctemps)))\n",
    "\n",
    "    # Use lambdas to accomplish the same thing\n",
    "    print(list(map(lambda t: (t-32) * 5/9, ftemps)))\n",
    "    print(list(map(lambda t: (t * 9/5) + 32, ctemps)))\n",
    "    \n",
    "    # My example Use lambdas to accomplish the same thing\n",
    "    print(list(map(lambda x: (x * 2.204), kgs)))\n",
    "    print(list(map(lambda x: (x / 2.204), lbs)))\n",
    "\n",
    "if __name__ == \"__main__\":\n",
    "    main()\n"
   ]
  },
  {
   "cell_type": "code",
   "execution_count": 8,
   "metadata": {},
   "outputs": [
    {
     "name": "stdout",
     "output_type": "stream",
     "text": [
      "45\n",
      "5\n",
      "45\n"
     ]
    }
   ],
   "source": [
    "# Demonstrate the use of variable argument lists\n",
    "\n",
    "\n",
    "# define a function that takes variable arguments\n",
    "def addition(base, *args):\n",
    "    result = 0\n",
    "    for arg in args:\n",
    "        result += arg\n",
    "\n",
    "    return result\n",
    "\n",
    "\n",
    "def main():\n",
    "    # pass different arguments\n",
    "    print(addition(5, 10, 15, 20))\n",
    "    print(addition(1, 2, 3))\n",
    "\n",
    "    # pass an existing list\n",
    "    myNums = [5, 10, 15, 20]\n",
    "    print(addition(*myNums))\n",
    "\n",
    "\n",
    "if __name__ == \"__main__\":\n",
    "    main()\n"
   ]
  },
  {
   "cell_type": "code",
   "execution_count": null,
   "metadata": {},
   "outputs": [],
   "source": []
  }
 ],
 "metadata": {
  "kernelspec": {
   "display_name": "Python 3",
   "language": "python",
   "name": "python3"
  },
  "language_info": {
   "codemirror_mode": {
    "name": "ipython",
    "version": 3
   },
   "file_extension": ".py",
   "mimetype": "text/x-python",
   "name": "python",
   "nbconvert_exporter": "python",
   "pygments_lexer": "ipython3",
   "version": "3.7.1"
  }
 },
 "nbformat": 4,
 "nbformat_minor": 2
}
